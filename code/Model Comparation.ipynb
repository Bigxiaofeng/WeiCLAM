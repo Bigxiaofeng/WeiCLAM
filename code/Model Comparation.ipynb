{
 "cells": [
  {
   "cell_type": "markdown",
   "metadata": {},
   "source": [
    "# Эксперименты на реальных данных, сравнение моделей"
   ]
  },
  {
   "cell_type": "code",
   "execution_count": 1,
   "metadata": {
    "collapsed": true
   },
   "outputs": [],
   "source": [
    "import numpy as np\n",
    "import scipy as sp\n",
    "import scipy.spatial as spatial\n",
    "import matplotlib.pyplot as plt\n",
    "import networkx as nx\n",
    "import cPickle\n",
    "from Extends import toBigClamFormat, fromBigClamFormat, test_example\n",
    "import subprocess\n",
    "import os\n",
    "from big_clam import BigClam\n",
    "from big_clam_gamma import BigClamGamma\n",
    "from Experiments import *\n",
    "%matplotlib inline "
   ]
  },
  {
   "cell_type": "code",
   "execution_count": 47,
   "metadata": {
    "collapsed": false,
    "scrolled": true
   },
   "outputs": [
    {
     "name": "stdout",
     "output_type": "stream",
     "text": [
      "lesmis.gml data, 77 nodes, 254 edges\n",
      "    SparseGamma model...\n",
      "    BigClam-Zeros-s model...\n",
      "iter: 20000, LLH:-528.849244148\n",
      "iter: 40000, LLH:-484.940410099\n",
      "    BigClam-Zeros model...\n",
      "    SparseGamma-1 model...\n",
      "    SparseGamma-0005 model...\n",
      "    SparseGamma-005 model...\n",
      "netscience.gml data, 1589 nodes, 2742 edges\n",
      "    SparseGamma model...\n",
      "iter: 20000, LLH:-21767.247434\n",
      "iter: 40000, LLH:-19687.6628627\n",
      "iter: 60000, LLH:-18937.2193348\n",
      "iter: 80000, LLH:-18516.7589119\n",
      "iter: 100000, LLH:-18229.3449533\n",
      "iter: 120000, LLH:-18008.4661095\n",
      "iter: 140000, LLH:-17828.6474769\n",
      "iter: 160000, LLH:-17680.3964621\n",
      "iter: 180000, LLH:-17555.1005005\n",
      "iter: 200000, LLH:-17447.1678228\n",
      "iter: 220000, LLH:-17354.1563769\n",
      "iter: 240000, LLH:-17272.1305246\n",
      "iter: 260000, LLH:-17199.4121813\n",
      "iter: 280000, LLH:-17134.1125803\n",
      "iter: 300000, LLH:-17075.3498498\n",
      "iter: 320000, LLH:-17022.6379142\n",
      "iter: 340000, LLH:-16974.6675253\n",
      "iter: 360000, LLH:-16931.0007494\n",
      "iter: 380000, LLH:-16890.3780454\n",
      "iter: 400000, LLH:-16852.663176\n",
      "iter: 420000, LLH:-16817.749606\n",
      "iter: 440000, LLH:-16784.9202323\n",
      "iter: 460000, LLH:-16754.3174845\n",
      "iter: 480000, LLH:-16725.2372944\n",
      "iter: 500000, LLH:-16697.9186485\n",
      "    BigClam-Zeros-s model...\n",
      "iter: 20000, LLH:-18072.5729259\n",
      "iter: 40000, LLH:-13032.4949581\n",
      "iter: 60000, LLH:-11067.2458627\n",
      "iter: 80000, LLH:-10065.3003502\n",
      "iter: 100000, LLH:-9427.98679666\n",
      "iter: 120000, LLH:-8968.20801037\n",
      "iter: 140000, LLH:-8616.55499701\n",
      "iter: 160000, LLH:-8335.50546771\n",
      "iter: 180000, LLH:-8098.69084305\n",
      "iter: 200000, LLH:-7897.44904967\n",
      "iter: 220000, LLH:-7723.38738342\n",
      "iter: 240000, LLH:-7570.68314644\n",
      "iter: 260000, LLH:-7431.41220614\n",
      "iter: 280000, LLH:-7304.99176834\n",
      "iter: 300000, LLH:-7189.15382386\n",
      "iter: 320000, LLH:-7082.11278196\n",
      "iter: 340000, LLH:-6981.94211657\n",
      "iter: 360000, LLH:-6889.3103565\n",
      "iter: 380000, LLH:-6801.73206891\n",
      "iter: 400000, LLH:-6718.17882385\n",
      "iter: 420000, LLH:-6641.23420373\n",
      "iter: 440000, LLH:-6569.95360126\n",
      "iter: 460000, LLH:-6502.39996127\n",
      "iter: 480000, LLH:-6439.05132921\n",
      "iter: 500000, LLH:-6378.66668049\n",
      "    BigClam-Zeros model...\n",
      "    SparseGamma-1 model...\n",
      "iter: 20000, LLH:-24743.4366186\n",
      "iter: 40000, LLH:-18657.1312837\n",
      "iter: 60000, LLH:-16541.2207258\n",
      "iter: 80000, LLH:-15501.2873542\n",
      "iter: 100000, LLH:-14864.0261516\n",
      "iter: 120000, LLH:-14420.4539046\n",
      "iter: 140000, LLH:-14085.8017163\n",
      "iter: 160000, LLH:-13820.7256996\n",
      "iter: 180000, LLH:-13602.4161487\n",
      "iter: 200000, LLH:-13418.213836\n",
      "iter: 220000, LLH:-13260.8293513\n",
      "iter: 240000, LLH:-13124.1896888\n",
      "iter: 260000, LLH:-13002.9890495\n",
      "iter: 280000, LLH:-12893.605173\n",
      "iter: 300000, LLH:-12793.2236466\n",
      "iter: 320000, LLH:-12700.0447676\n",
      "iter: 340000, LLH:-12615.0423961\n",
      "iter: 360000, LLH:-12537.4928861\n",
      "iter: 380000, LLH:-12466.0974812\n",
      "iter: 400000, LLH:-12400.4581745\n",
      "iter: 420000, LLH:-12339.0910214\n",
      "iter: 440000, LLH:-12282.5820259\n",
      "iter: 460000, LLH:-12229.9672918\n",
      "iter: 480000, LLH:-12181.4767883\n",
      "iter: 500000, LLH:-12135.6619283\n",
      "    SparseGamma-0005 model...\n",
      "iter: 20000, LLH:-39513.1497416\n",
      "    SparseGamma-005 model...\n",
      "iter: 20000, LLH:-26334.5802512\n",
      "iter: 40000, LLH:-24818.4720355\n",
      "iter: 60000, LLH:-24257.2764668\n",
      "iter: 80000, LLH:-23956.8314469\n",
      "iter: 100000, LLH:-23768.2079139\n",
      "iter: 120000, LLH:-23636.9849796\n",
      "iter: 140000, LLH:-23540.1207082\n",
      "iter: 160000, LLH:-23465.5305778\n",
      "iter: 180000, LLH:-23407.7720416\n",
      "iter: 200000, LLH:-23362.4149382\n",
      "iter: 220000, LLH:-23326.4535376\n"
     ]
    }
   ],
   "source": [
    "s = 0\n",
    "import os\n",
    "DATA_PATH = '../data/weighted/'\n",
    "gml_paths = [f for f in os.listdir(DATA_PATH) if f.endswith(\".gml\")]\n",
    "Fss = []\n",
    "LLHs = []\n",
    "\n",
    "res = {'LLH':None, 'F': None, 'Model':None}\n",
    "K = {'lesmis.gml': 8, 'netscience.gml': 300}\n",
    "params = {\n",
    "    'initF':'cond_new_randz_spr', \n",
    "    'LLH_output':True, \n",
    "    'iter_output':20000, \n",
    "    'processesNo':4, \n",
    "    'dump':10,\n",
    "    'eps':1e-4,\n",
    "    \"max_iter\":500000\n",
    "}\n",
    "\n",
    "models = {'BigClam-Zeros': lambda A, K, name: BigClam(1.0 * (A != 0), K, dump_name=name, **params),\n",
    "          'BigClam-Zeros-s': lambda A, K, name: BigClam(1.0 * (A != 0), K, dump_name=name, stepSizeMod='simple', **params),\n",
    "          #'BigClam-Mean': lambda A: BigClam(1.0 * (A < np.mean(A))),\n",
    "          #'BigClamWeighted': lambda A: BigClam(A),\n",
    "          'SparseGamma': lambda A, K, name: BigClamGamma(A, K, dump_name=name, **params),\n",
    "          'SparseGamma-005': lambda A, K, name: BigClamGamma(A, K, dump_name=name, pow=0.05, **params),\n",
    "          'SparseGamma-0005': lambda A, K, name: BigClamGamma(A, K, dump_name=name, pow=0.005, **params),\n",
    "          'SparseGamma-1': lambda A, K, name: BigClamGamma(A, K, dump_name=name, pow=1, **params),\n",
    "         }\n",
    "\n",
    "models_res_all = []\n",
    "\n",
    "for ego in gml_paths:\n",
    "    G = nx.read_gml(file(DATA_PATH + '{}'.format(ego)))\n",
    "    A = np.array(nx.to_numpy_matrix(G))\n",
    "    models_res = {}\n",
    "    print '{} data, {} nodes, {} edges'.format(ego, len(G), nx.number_of_edges(G))\n",
    "    for key in models:\n",
    "        print \"    \" + key + ' model...'\n",
    "        model = models[key](A, K[ego], key+ '_' + ego + '.dump')\n",
    "        res = model.fit()\n",
    "        models_res[key] = {'LLH':model.LLH_output, 'F': res[0], 'Model':model, \"A\":A}\n",
    "    models_res_all.append(models_res)"
   ]
  },
  {
   "cell_type": "code",
   "execution_count": 48,
   "metadata": {
    "collapsed": false
   },
   "outputs": [
    {
     "data": {
      "text/plain": [
       "'D:\\\\YandexDisk\\\\projects\\\\data Mining and science problems\\\\MMOS\\\\BigClam_2\\\\code'"
      ]
     },
     "execution_count": 48,
     "metadata": {},
     "output_type": "execute_result"
    }
   ],
   "source": [
    "os.getcwd()"
   ]
  },
  {
   "cell_type": "code",
   "execution_count": 49,
   "metadata": {
    "collapsed": true
   },
   "outputs": [],
   "source": [
    "def MixedModularity(F, A):\n",
    "    F = F.copy()\n",
    "    #print F.shape\n",
    "    #F = F > 0.01 * np.sum(A) / (A.shape[0]*(A.shape[0]-1) )\n",
    "    Fnorm = np.sum(F, axis=1)\n",
    "    F[Fnorm!=0,:] = F[Fnorm!=0, :] * (1.0 / Fnorm[Fnorm!=0, None])\n",
    "    m2 = 1.0 * np.sum(A)\n",
    "    res = 0.0\n",
    "    for i in xrange(F.shape[1]):\n",
    "        indx = F[:, i] != 0\n",
    "        degs = np.sum(A[indx], axis=1)[:, None]\n",
    "        M = A[indx, :][:, indx] - degs.dot(degs.T) / m2\n",
    "        M = M * F[indx, [i]][:,None].dot(F[indx, [i]][:,None].T)\n",
    "        res += np.sum(M)\n",
    "    return res / m2"
   ]
  },
  {
   "cell_type": "code",
   "execution_count": 52,
   "metadata": {
    "collapsed": false,
    "scrolled": true
   },
   "outputs": [
    {
     "name": "stdout",
     "output_type": "stream",
     "text": [
      "0.331381542878\n",
      "0.355067307527\n",
      "0.239777749248\n",
      "0.0609159994471\n",
      "0.272450369312\n",
      "0.387401347012\n"
     ]
    }
   ],
   "source": [
    "indx = 0\n",
    "\n",
    "G = nx.read_gml(file(DATA_PATH + '{}'.format(gml_paths[indx])))\n",
    "A = np.array(nx.to_numpy_matrix(G))\n",
    "\n",
    "print MixedModularity(models_res_all[indx]['SparseGamma']['F'], A)\n",
    "print MixedModularity(models_res_all[indx]['SparseGamma-1']['F'], A)\n",
    "print MixedModularity(models_res_all[indx]['SparseGamma-005']['F'], A)\n",
    "print MixedModularity(models_res_all[indx]['SparseGamma-0005']['F'], A)\n",
    "print MixedModularity(models_res_all[indx]['BigClam-Zeros']['F'], A)\n",
    "print MixedModularity(models_res_all[indx]['BigClam-Zeros-s']['F'], A)"
   ]
  },
  {
   "cell_type": "code",
   "execution_count": 51,
   "metadata": {
    "collapsed": false
   },
   "outputs": [
    {
     "data": {
      "text/plain": [
       "0.0043466337366624766"
      ]
     },
     "execution_count": 51,
     "metadata": {},
     "output_type": "execute_result"
    }
   ],
   "source": [
    "2 * np.sum(A) / (A.shape[0]*(A.shape[0]-1) )"
   ]
  },
  {
   "cell_type": "code",
   "execution_count": 16,
   "metadata": {
    "collapsed": false
   },
   "outputs": [
    {
     "name": "stdout",
     "output_type": "stream",
     "text": [
      "['SparseGamma', 'BigClam-Zeros']\n"
     ]
    },
    {
     "data": {
      "image/png": "[encoded data removed]",
      "text/plain": [
       "<matplotlib.figure.Figure at 0xbc0ecf8>"
      ]
     },
     "metadata": {},
     "output_type": "display_data"
    }
   ],
   "source": [
    "print models_res_all[0].keys()\n",
    "plt.figure(figsize=(15,10))\n",
    "plt.subplot(121)\n",
    "draw_matrix(models_res_all[1]['SparseGamma']['F'])\n",
    "plt.subplot(122)\n",
    "draw_matrix(models_res_all[1]['BigClam-Zeros']['F'])"
   ]
  },
  {
   "cell_type": "code",
   "execution_count": null,
   "metadata": {
    "collapsed": true
   },
   "outputs": [],
   "source": []
  },
  {
   "cell_type": "code",
   "execution_count": 125,
   "metadata": {
    "collapsed": false,
    "scrolled": true
   },
   "outputs": [
    {
     "name": "stdout",
     "output_type": "stream",
     "text": [
      "[ 1.  1.  1.  2.  1.  1.  1.]\n",
      "24.0\n",
      "[ True  True  True  True False False False]\n",
      "[[3]\n",
      " [3]\n",
      " [3]\n",
      " [6]]\n",
      "[[0 1 1 1]\n",
      " [1 0 1 1]\n",
      " [1 1 0 1]\n",
      " [1 1 1 0]]\n",
      "[[-0.375  0.625  0.625  0.25 ]\n",
      " [ 0.625 -0.375  0.625  0.25 ]\n",
      " [ 0.625  0.625 -0.375  0.25 ]\n",
      " [ 0.25   0.25   0.25  -1.5  ]]\n",
      "[[ 1.    1.    1.    0.5 ]\n",
      " [ 1.    1.    1.    0.5 ]\n",
      " [ 1.    1.    1.    0.5 ]\n",
      " [ 0.5   0.5   0.5   0.25]]\n",
      "[[-0.375  0.625  0.625  0.125]\n",
      " [ 0.625 -0.375  0.625  0.125]\n",
      " [ 0.625  0.625 -0.375  0.125]\n",
      " [ 0.125  0.125  0.125 -0.375]]\n",
      "[False False False  True  True  True  True]\n",
      "[[6]\n",
      " [3]\n",
      " [3]\n",
      " [3]]\n",
      "[[0 1 1 1]\n",
      " [1 0 1 1]\n",
      " [1 1 0 1]\n",
      " [1 1 1 0]]\n",
      "[[-1.5    0.25   0.25   0.25 ]\n",
      " [ 0.25  -0.375  0.625  0.625]\n",
      " [ 0.25   0.625 -0.375  0.625]\n",
      " [ 0.25   0.625  0.625 -0.375]]\n",
      "[[ 0.25  0.5   0.5   0.5 ]\n",
      " [ 0.5   1.    1.    1.  ]\n",
      " [ 0.5   1.    1.    1.  ]\n",
      " [ 0.5   1.    1.    1.  ]]\n",
      "[[-0.375  0.125  0.125  0.125]\n",
      " [ 0.125 -0.375  0.625  0.625]\n",
      " [ 0.125  0.625 -0.375  0.625]\n",
      " [ 0.125  0.625  0.625 -0.375]]\n",
      "0.25\n"
     ]
    },
    {
     "data": {
      "image/png": "[encoded data removed]",
      "text/plain": [
       "<matplotlib.figure.Figure at 0xbf96588>"
      ]
     },
     "metadata": {},
     "output_type": "display_data"
    }
   ],
   "source": [
    "F = np.array([[1.,1.,1.,1.,0.,0.,0.], [0.,0.,0.,1.,1.,1.,1.]]).T\n",
    "At = test_example()\n",
    "draw_matrix(At)\n",
    "print MixedModularity(F, At)"
   ]
  }
 ],
 "metadata": {
  "kernelspec": {
   "display_name": "Python 2",
   "language": "python",
   "name": "python2"
  },
  "language_info": {
   "codemirror_mode": {
    "name": "ipython",
    "version": 2
   },
   "file_extension": ".py",
   "mimetype": "text/x-python",
   "name": "python",
   "nbconvert_exporter": "python",
   "pygments_lexer": "ipython2",
   "version": "2.7.11"
  }
 },
 "nbformat": 4,
 "nbformat_minor": 0
}
